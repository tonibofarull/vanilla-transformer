{
 "cells": [
  {
   "cell_type": "code",
   "execution_count": null,
   "metadata": {},
   "outputs": [],
   "source": [
    "%load_ext autoreload\r\n",
    "%autoreload 2\r\n",
    "\r\n",
    "import torch\r\n",
    "from torch.utils.data import DataLoader\r\n",
    "import yaml\r\n",
    "from models.transformer import Transformer\r\n",
    "from dataloader import SourceTargetDataset\r\n",
    "from train import Trainer"
   ]
  },
  {
   "cell_type": "markdown",
   "metadata": {},
   "source": [
    "# Model"
   ]
  },
  {
   "cell_type": "code",
   "execution_count": null,
   "metadata": {},
   "outputs": [],
   "source": [
    "with open(\"configs/config.yml\") as f:\r\n",
    "    cfg = yaml.load(f, Loader=yaml.FullLoader)"
   ]
  },
  {
   "cell_type": "code",
   "execution_count": null,
   "metadata": {},
   "outputs": [],
   "source": [
    "data = SourceTargetDataset(**cfg[\"dataset\"])"
   ]
  },
  {
   "cell_type": "code",
   "execution_count": null,
   "metadata": {},
   "outputs": [],
   "source": [
    "model = Transformer(data.voc_src_len, data.voc_tgt_len, **cfg[\"model\"])"
   ]
  },
  {
   "cell_type": "code",
   "execution_count": null,
   "metadata": {},
   "outputs": [],
   "source": [
    "trainer = Trainer(**cfg[\"train\"])\r\n",
    "_, _ = trainer.fit(model, data)"
   ]
  },
  {
   "cell_type": "markdown",
   "metadata": {},
   "source": [
    "# Inference"
   ]
  },
  {
   "cell_type": "markdown",
   "metadata": {},
   "source": [
    "## Custom sentence"
   ]
  },
  {
   "cell_type": "code",
   "execution_count": null,
   "metadata": {},
   "outputs": [],
   "source": [
    "sentence = \"hey ! how are you ?\"\r\n",
    "sentence = sentence.split()\r\n",
    "inp_pad = data.max_len - len(sentence)\r\n",
    "sentence = sentence + [\"<PAD>\"] * inp_pad\r\n",
    "inp = data._token_to_idx(sentence).reshape(1, -1)"
   ]
  },
  {
   "cell_type": "markdown",
   "metadata": {},
   "source": [
    "## Sentence from training"
   ]
  },
  {
   "cell_type": "code",
   "execution_count": null,
   "metadata": {},
   "outputs": [],
   "source": [
    "dl = iter(DataLoader(data))"
   ]
  },
  {
   "cell_type": "code",
   "execution_count": null,
   "metadata": {},
   "outputs": [],
   "source": [
    "inp, out, inp_pad, out_pad, src, tgt = next(dl)\r\n",
    "print(data._idx_to_token(inp, is_src=True))\r\n",
    "print(data._idx_to_token(out))"
   ]
  },
  {
   "cell_type": "markdown",
   "metadata": {},
   "source": [
    "## Inference"
   ]
  },
  {
   "cell_type": "markdown",
   "metadata": {},
   "source": [
    "Initialize 'out' to the start-of-sentence (SOS)"
   ]
  },
  {
   "cell_type": "code",
   "execution_count": null,
   "metadata": {},
   "outputs": [],
   "source": [
    "model.eval()\r\n",
    "c_sos = data.sos.expand(1, -1)\r\n",
    "out = torch.cat([c_sos], 1)\r\n",
    "print(out)\r\n",
    "print(data._idx_to_token(out))"
   ]
  },
  {
   "cell_type": "markdown",
   "metadata": {},
   "source": [
    "Run inference of the sentence translated so far and append new prediction to the end of the sentence.\r\n",
    "\r\n",
    "Select the predicted word as the one with highest probability. Change 'PICK_TOP' to select another ones."
   ]
  },
  {
   "cell_type": "code",
   "execution_count": null,
   "metadata": {},
   "outputs": [],
   "source": [
    "PICK_TOP = 0\r\n",
    "\r\n",
    "R = model(inp, out, [inp_pad], [0])\r\n",
    "last_pred = R[0,-1]\r\n",
    "values, indices = torch.topk(last_pred, k=5)\r\n",
    "probs = values.detach().numpy()\r\n",
    "r = torch.tensor([indices[PICK_TOP]])\r\n",
    "out = torch.cat([out, r.reshape(1, 1)], 1)\r\n",
    "print(\"Top best values:\")\r\n",
    "print([(data.voc_tgt[x], p) for x, p in zip(indices, probs)])\r\n",
    "print()\r\n",
    "print(\"Current output:\")\r\n",
    "print(data._idx_to_token(out))"
   ]
  },
  {
   "cell_type": "code",
   "execution_count": null,
   "metadata": {},
   "outputs": [],
   "source": []
  }
 ],
 "metadata": {
  "interpreter": {
   "hash": "db019ecaa3c28c44b8b78b540e02daf540360ff12e3512a6df42e6c69ce06a44"
  },
  "kernelspec": {
   "display_name": "Python 3.8.10 64-bit",
   "name": "python3"
  },
  "language_info": {
   "codemirror_mode": {
    "name": "ipython",
    "version": 3
   },
   "file_extension": ".py",
   "mimetype": "text/x-python",
   "name": "python",
   "nbconvert_exporter": "python",
   "pygments_lexer": "ipython3",
   "version": "3.8.10"
  },
  "metadata": {
   "interpreter": {
    "hash": "bc92e22c73eaa7c4f99e353a9a6142b69d86713b39a02875a370276bee564234"
   }
  },
  "orig_nbformat": 2
 },
 "nbformat": 4,
 "nbformat_minor": 2
}
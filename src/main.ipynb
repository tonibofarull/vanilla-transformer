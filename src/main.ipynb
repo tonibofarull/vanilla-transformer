{
 "cells": [
  {
   "cell_type": "code",
   "execution_count": null,
   "metadata": {},
   "outputs": [],
   "source": [
    "%load_ext autoreload\r\n",
    "%autoreload 2\r\n",
    "\r\n",
    "from torch.utils.data import DataLoader\r\n",
    "import torch\r\n",
    "from torch import nn\r\n",
    "from torch.nn import functional as F\r\n",
    "import numpy as np\r\n",
    "import seaborn as sns\r\n",
    "from models.transformer import Transformer\r\n",
    "from train import Trainer\r\n",
    "from dataloader import EnglishToSpanish"
   ]
  },
  {
   "cell_type": "markdown",
   "metadata": {},
   "source": [
    "# Model"
   ]
  },
  {
   "cell_type": "code",
   "execution_count": 226,
   "metadata": {},
   "outputs": [
    {
     "name": "stdout",
     "output_type": "stream",
     "text": [
      "Corpus eng: 8\n",
      "Corpus esp: 7\n"
     ]
    }
   ],
   "source": [
    "trainer = Trainer()\r\n",
    "data = EnglishToSpanish()"
   ]
  },
  {
   "cell_type": "code",
   "execution_count": 227,
   "metadata": {},
   "outputs": [],
   "source": [
    "tm = Transformer()"
   ]
  },
  {
   "cell_type": "code",
   "execution_count": 228,
   "metadata": {},
   "outputs": [
    {
     "name": "stdout",
     "output_type": "stream",
     "text": [
      "0/6 | loss: 0.49309706687927246\n",
      "1/6 | loss: 0.1395762711763382\n",
      "2/6 | loss: 0.6052873730659485\n",
      "3/6 | loss: 0.6344212889671326\n",
      "4/6 | loss: 0.32110315561294556\n",
      "5/6 | loss: 0.4618662893772125\n",
      "EPOCH 1 train loss: 0.4425585741798083\n",
      "\n",
      "0/6 | loss: 0.3318556845188141\n",
      "1/6 | loss: 0.25888094305992126\n",
      "2/6 | loss: 0.23945696651935577\n",
      "3/6 | loss: 0.22817954421043396\n",
      "4/6 | loss: 0.04012959823012352\n",
      "5/6 | loss: 0.2955445647239685\n",
      "EPOCH 2 train loss: 0.23234121687710285\n",
      "\n",
      "0/6 | loss: 0.12120409309864044\n",
      "1/6 | loss: 0.2609812021255493\n",
      "2/6 | loss: 0.007978265173733234\n",
      "3/6 | loss: 0.2977290451526642\n",
      "4/6 | loss: 0.09162497520446777\n",
      "5/6 | loss: 0.27540868520736694\n",
      "EPOCH 3 train loss: 0.17582104432707032\n",
      "\n",
      "0/6 | loss: 0.10438761860132217\n",
      "1/6 | loss: 0.15139925479888916\n",
      "2/6 | loss: 0.004972574766725302\n",
      "3/6 | loss: 0.25964584946632385\n",
      "4/6 | loss: 0.10972370952367783\n",
      "5/6 | loss: 0.1954764425754547\n",
      "EPOCH 4 train loss: 0.13760090828873217\n",
      "\n",
      "0/6 | loss: 0.14001548290252686\n",
      "1/6 | loss: 0.20068849623203278\n",
      "2/6 | loss: 0.003944286145269871\n",
      "3/6 | loss: 0.13667400181293488\n",
      "4/6 | loss: 0.16457244753837585\n",
      "5/6 | loss: 0.2189410924911499\n",
      "EPOCH 5 train loss: 0.14413930118704835\n",
      "\n",
      "0/6 | loss: 0.575977087020874\n",
      "1/6 | loss: 0.0031546964310109615\n",
      "2/6 | loss: 0.06945730745792389\n",
      "3/6 | loss: 0.05794306471943855\n",
      "4/6 | loss: 0.15191087126731873\n",
      "5/6 | loss: 0.2181968241930008\n",
      "EPOCH 6 train loss: 0.1794399751815945\n",
      "\n",
      "0/6 | loss: 0.052675239741802216\n",
      "1/6 | loss: 0.31668373942375183\n",
      "2/6 | loss: 0.008081798441708088\n",
      "3/6 | loss: 0.04768453165888786\n",
      "4/6 | loss: 0.2319728434085846\n",
      "5/6 | loss: 0.2678830623626709\n",
      "EPOCH 7 train loss: 0.15416353583956757\n",
      "\n",
      "0/6 | loss: 0.05668226629495621\n",
      "1/6 | loss: 0.038917120546102524\n",
      "2/6 | loss: 0.05657726526260376\n",
      "3/6 | loss: 0.06312702596187592\n",
      "4/6 | loss: 0.1952403485774994\n",
      "5/6 | loss: 0.17513015866279602\n",
      "EPOCH 8 train loss: 0.09761236421763897\n",
      "\n",
      "0/6 | loss: 0.14572718739509583\n",
      "1/6 | loss: 0.11924262344837189\n",
      "2/6 | loss: 0.15006203949451447\n",
      "3/6 | loss: 0.015147730708122253\n",
      "4/6 | loss: 0.0121331000700593\n",
      "5/6 | loss: 0.0133413877338171\n",
      "EPOCH 9 train loss: 0.07594234480833013\n",
      "\n",
      "0/6 | loss: 0.11272777616977692\n",
      "1/6 | loss: 0.009844633750617504\n",
      "2/6 | loss: 0.09191912412643433\n",
      "3/6 | loss: 0.2094038724899292\n",
      "4/6 | loss: 0.01350080780684948\n",
      "5/6 | loss: 0.00892566703259945\n",
      "EPOCH 10 train loss: 0.07438698022936781\n",
      "\n",
      "0/6 | loss: 0.07575428485870361\n",
      "1/6 | loss: 0.006957079749554396\n",
      "2/6 | loss: 0.18202447891235352\n",
      "3/6 | loss: 0.010181443765759468\n",
      "4/6 | loss: 0.00893319584429264\n",
      "5/6 | loss: 0.09655863046646118\n",
      "EPOCH 11 train loss: 0.06340151893285413\n",
      "\n",
      "0/6 | loss: 0.005096797365695238\n",
      "1/6 | loss: 0.07704586535692215\n",
      "2/6 | loss: 0.11215412616729736\n",
      "3/6 | loss: 0.16124360263347626\n",
      "4/6 | loss: 0.0040489910170435905\n",
      "5/6 | loss: 0.003073287894949317\n",
      "EPOCH 12 train loss: 0.06044377840589732\n",
      "\n",
      "0/6 | loss: 0.0030178625602275133\n",
      "1/6 | loss: 0.1905517429113388\n",
      "2/6 | loss: 0.004045470152050257\n",
      "3/6 | loss: 0.06527360528707504\n",
      "4/6 | loss: 0.10235710442066193\n",
      "5/6 | loss: 0.003959225490689278\n",
      "EPOCH 13 train loss: 0.06153416847034047\n",
      "\n",
      "0/6 | loss: 0.003223949810490012\n",
      "1/6 | loss: 0.002694277325645089\n",
      "2/6 | loss: 0.050696417689323425\n",
      "3/6 | loss: 0.1486787647008896\n",
      "4/6 | loss: 0.08005543798208237\n",
      "5/6 | loss: 0.0023456383496522903\n",
      "EPOCH 14 train loss: 0.047949080976347126\n",
      "\n",
      "0/6 | loss: 0.0022041520569473505\n",
      "1/6 | loss: 0.0022426776122301817\n",
      "2/6 | loss: 0.056631140410900116\n",
      "3/6 | loss: 0.034185558557510376\n",
      "4/6 | loss: 0.002495400607585907\n",
      "5/6 | loss: 0.2611384689807892\n",
      "EPOCH 15 train loss: 0.05981623303766052\n",
      "\n",
      "0/6 | loss: 0.024016674607992172\n",
      "1/6 | loss: 0.0019849196542054415\n",
      "2/6 | loss: 0.002006801310926676\n",
      "3/6 | loss: 0.20740696787834167\n",
      "4/6 | loss: 0.0022237771190702915\n",
      "5/6 | loss: 0.07882462441921234\n",
      "EPOCH 16 train loss: 0.05274396083162477\n",
      "\n",
      "0/6 | loss: 0.0018663693917915225\n",
      "1/6 | loss: 0.12485259771347046\n",
      "2/6 | loss: 0.001848504296503961\n",
      "3/6 | loss: 0.09687571227550507\n",
      "4/6 | loss: 0.0019880246836692095\n",
      "5/6 | loss: 0.09668990224599838\n",
      "EPOCH 17 train loss: 0.054020185101156436\n",
      "\n",
      "0/6 | loss: 0.002228321274742484\n",
      "1/6 | loss: 0.12231004983186722\n",
      "2/6 | loss: 0.07312630861997604\n",
      "3/6 | loss: 0.0018309860024601221\n",
      "4/6 | loss: 0.0018207377288490534\n",
      "5/6 | loss: 0.21656644344329834\n",
      "EPOCH 18 train loss: 0.06964714115019888\n",
      "\n",
      "0/6 | loss: 0.2058451920747757\n",
      "1/6 | loss: 0.0023064850829541683\n",
      "2/6 | loss: 0.08001594245433807\n",
      "3/6 | loss: 0.0016549879219383001\n",
      "4/6 | loss: 0.04659705609083176\n",
      "5/6 | loss: 0.0013803605688735843\n",
      "EPOCH 19 train loss: 0.056300004032285265\n",
      "\n",
      "0/6 | loss: 0.04474187642335892\n",
      "1/6 | loss: 0.0016247840831056237\n",
      "2/6 | loss: 0.002108414191752672\n",
      "3/6 | loss: 0.174541637301445\n",
      "4/6 | loss: 0.0016369462246075273\n",
      "5/6 | loss: 0.08227343112230301\n",
      "EPOCH 20 train loss: 0.05115451489109546\n",
      "\n",
      "Training Finished in 26.1922025680542s\n"
     ]
    },
    {
     "data": {
      "text/plain": [
       "([0.4425585741798083,\n",
       "  0.23234121687710285,\n",
       "  0.17582104432707032,\n",
       "  0.13760090828873217,\n",
       "  0.14413930118704835,\n",
       "  0.1794399751815945,\n",
       "  0.15416353583956757,\n",
       "  0.09761236421763897,\n",
       "  0.07594234480833013,\n",
       "  0.07438698022936781,\n",
       "  0.06340151893285413,\n",
       "  0.06044377840589732,\n",
       "  0.06153416847034047,\n",
       "  0.047949080976347126,\n",
       "  0.05981623303766052,\n",
       "  0.05274396083162477,\n",
       "  0.054020185101156436,\n",
       "  0.06964714115019888,\n",
       "  0.056300004032285265,\n",
       "  0.05115451489109546],\n",
       " [])"
      ]
     },
     "execution_count": 228,
     "metadata": {},
     "output_type": "execute_result"
    }
   ],
   "source": [
    "trainer.fit(tm, data)"
   ]
  },
  {
   "cell_type": "code",
   "execution_count": null,
   "metadata": {},
   "outputs": [],
   "source": [
    "print(tm)"
   ]
  },
  {
   "cell_type": "code",
   "execution_count": 229,
   "metadata": {},
   "outputs": [],
   "source": [
    "dl = iter(DataLoader(data))"
   ]
  },
  {
   "cell_type": "markdown",
   "metadata": {},
   "source": [
    "# Inference"
   ]
  },
  {
   "cell_type": "code",
   "execution_count": 233,
   "metadata": {},
   "outputs": [],
   "source": [
    "inp, out, inp_pad, out_pad, src, tgt = next(dl)"
   ]
  },
  {
   "cell_type": "code",
   "execution_count": 234,
   "metadata": {},
   "outputs": [
    {
     "data": {
      "text/plain": [
       "[['how',\n",
       "  'are',\n",
       "  'you',\n",
       "  '<PAD>',\n",
       "  '<PAD>',\n",
       "  '<PAD>',\n",
       "  '<PAD>',\n",
       "  '<PAD>',\n",
       "  '<PAD>',\n",
       "  '<PAD>',\n",
       "  '<PAD>',\n",
       "  '<PAD>',\n",
       "  '<PAD>',\n",
       "  '<PAD>',\n",
       "  '<PAD>',\n",
       "  '<PAD>',\n",
       "  '<PAD>']]"
      ]
     },
     "execution_count": 234,
     "metadata": {},
     "output_type": "execute_result"
    }
   ],
   "source": [
    "data._idx_to_token(inp, is_en=True)"
   ]
  },
  {
   "cell_type": "code",
   "execution_count": 235,
   "metadata": {},
   "outputs": [
    {
     "data": {
      "text/plain": [
       "[['como',\n",
       "  'estas',\n",
       "  '<PAD>',\n",
       "  '<PAD>',\n",
       "  '<PAD>',\n",
       "  '<PAD>',\n",
       "  '<PAD>',\n",
       "  '<PAD>',\n",
       "  '<PAD>',\n",
       "  '<PAD>',\n",
       "  '<PAD>',\n",
       "  '<PAD>',\n",
       "  '<PAD>',\n",
       "  '<PAD>',\n",
       "  '<PAD>',\n",
       "  '<PAD>']]"
      ]
     },
     "execution_count": 235,
     "metadata": {},
     "output_type": "execute_result"
    }
   ],
   "source": [
    "data._idx_to_token(out)"
   ]
  },
  {
   "cell_type": "code",
   "execution_count": 236,
   "metadata": {},
   "outputs": [
    {
     "name": "stdout",
     "output_type": "stream",
     "text": [
      "tensor([[0]])\n"
     ]
    }
   ],
   "source": [
    "tm.eval()\r\n",
    "sos = torch.repeat_interleave(data.sos, 1, 0)\r\n",
    "out1 = torch.cat([sos], 1)\r\n",
    "print(out1)"
   ]
  },
  {
   "cell_type": "code",
   "execution_count": 262,
   "metadata": {},
   "outputs": [
    {
     "name": "stdout",
     "output_type": "stream",
     "text": [
      "Adding with prob. 0.987286388874054\n",
      "tensor([[0, 4, 3, 3, 3, 3, 3, 3, 3, 3, 3, 3, 3, 3, 3, 3, 3, 3, 3, 3, 3, 3]])\n"
     ]
    }
   ],
   "source": [
    "R = tm(inp, out1, inp_pad, 0)\r\n",
    "last_pred = R[0,-1]\r\n",
    "print(f\"Adding with prob. {torch.max(last_pred)}\")\r\n",
    "r = torch.argmax(last_pred)\r\n",
    "out1 = torch.cat([out1, r.reshape(1, 1)], 1)\r\n",
    "print(out1)"
   ]
  },
  {
   "cell_type": "code",
   "execution_count": 263,
   "metadata": {},
   "outputs": [
    {
     "data": {
      "text/plain": [
       "[['<SOS>',\n",
       "  'como',\n",
       "  'estas',\n",
       "  'estas',\n",
       "  'estas',\n",
       "  'estas',\n",
       "  'estas',\n",
       "  'estas',\n",
       "  'estas',\n",
       "  'estas',\n",
       "  'estas',\n",
       "  'estas',\n",
       "  'estas',\n",
       "  'estas',\n",
       "  'estas',\n",
       "  'estas',\n",
       "  'estas',\n",
       "  'estas',\n",
       "  'estas',\n",
       "  'estas',\n",
       "  'estas',\n",
       "  'estas']]"
      ]
     },
     "execution_count": 263,
     "metadata": {},
     "output_type": "execute_result"
    }
   ],
   "source": [
    "data._idx_to_token(out1)"
   ]
  },
  {
   "cell_type": "markdown",
   "metadata": {},
   "source": [
    "# Testing"
   ]
  },
  {
   "cell_type": "code",
   "execution_count": 264,
   "metadata": {},
   "outputs": [
    {
     "data": {
      "text/plain": [
       "[['estas',\n",
       "  'estas',\n",
       "  '<EOS>',\n",
       "  '<EOS>',\n",
       "  '<EOS>',\n",
       "  '<EOS>',\n",
       "  '<EOS>',\n",
       "  '<EOS>',\n",
       "  '<EOS>',\n",
       "  '<EOS>',\n",
       "  '<EOS>',\n",
       "  '<EOS>',\n",
       "  '<EOS>',\n",
       "  '<EOS>',\n",
       "  '<EOS>',\n",
       "  '<EOS>']]"
      ]
     },
     "execution_count": 264,
     "metadata": {},
     "output_type": "execute_result"
    }
   ],
   "source": [
    "R = tm(inp, out, inp_pad, out_pad)\r\n",
    "data._idx_to_token(torch.argmax(R, 2))"
   ]
  },
  {
   "cell_type": "code",
   "execution_count": null,
   "metadata": {},
   "outputs": [],
   "source": []
  }
 ],
 "metadata": {
  "interpreter": {
   "hash": "db019ecaa3c28c44b8b78b540e02daf540360ff12e3512a6df42e6c69ce06a44"
  },
  "kernelspec": {
   "display_name": "Python 3.8.10 64-bit",
   "name": "python3"
  },
  "language_info": {
   "codemirror_mode": {
    "name": "ipython",
    "version": 3
   },
   "file_extension": ".py",
   "mimetype": "text/x-python",
   "name": "python",
   "nbconvert_exporter": "python",
   "pygments_lexer": "ipython3",
   "version": "3.8.10"
  },
  "metadata": {
   "interpreter": {
    "hash": "bc92e22c73eaa7c4f99e353a9a6142b69d86713b39a02875a370276bee564234"
   }
  },
  "orig_nbformat": 2
 },
 "nbformat": 4,
 "nbformat_minor": 2
}